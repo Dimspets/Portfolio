{
  "metadata": {
    "kernelspec": {
      "name": "python",
      "display_name": "Python (Pyodide)",
      "language": "python"
    },
    "language_info": {
      "codemirror_mode": {
        "name": "python",
        "version": 3
      },
      "file_extension": ".py",
      "mimetype": "text/x-python",
      "name": "python",
      "nbconvert_exporter": "python",
      "pygments_lexer": "ipython3",
      "version": "3.8"
    },
    "prev_pub_hash": "b45b938fc7420206c5fa3f040f896f2a578fd1045d763cf82b4c02f8772d2aee"
  },
  "nbformat_minor": 4,
  "nbformat": 4,
  "cells": [
    {
      "cell_type": "markdown",
      "source": "<p style=\"text-align:center\">\n    <a href=\"https://skills.network/?utm_medium=Exinfluencer&utm_source=Exinfluencer&utm_content=000026UJ&utm_term=10006555&utm_id=NA-SkillsNetwork-Channel-SkillsNetworkCoursesIBMDeveloperSkillsNetworkML0101ENSkillsNetwork20718538-2022-01-01\" target=\"_blank\">\n    <img src=\"https://cf-courses-data.s3.us.cloud-object-storage.appdomain.cloud/assets/logos/SN_web_lightmode.png\" width=\"200\" alt=\"Skills Network Logo\">\n    </a>\n</p>\n\n<h1 align=\"center\"><font size=\"5\">Final Project: Classification with Python</font></h1>\n",
      "metadata": {}
    },
    {
      "cell_type": "markdown",
      "source": "<h2>Table of Contents</h2>\n<div class=\"alert alert-block alert-info\" style=\"margin-top: 20px\">\n    <ul>\n    <li><a href=\"https://#Section_1\">Instructions</a></li>\n    <li><a href=\"https://#Section_2\">About the Data</a></li>\n    <li><a href=\"https://#Section_3\">Importing Data </a></li>\n    <li><a href=\"https://#Section_4\">Data Preprocessing</a> </li>\n    <li><a href=\"https://#Section_5\">One Hot Encoding </a></li>\n    <li><a href=\"https://#Section_6\">Train and Test Data Split </a></li>\n    <li><a href=\"https://#Section_7\">Train Logistic Regression, KNN, Decision Tree, SVM, and Linear Regression models and return their appropriate accuracy scores</a></li>\n</a></li>\n</div>\n<p>Estimated Time Needed: <strong>180 min</strong></p>\n</div>\n\n<hr>\n",
      "metadata": {}
    },
    {
      "cell_type": "markdown",
      "source": "# Instructions\n",
      "metadata": {}
    },
    {
      "cell_type": "markdown",
      "source": "In this notebook, you will  practice all the classification algorithms that we have learned in this course.\n\n\nBelow, is where we are going to use the classification algorithms to create a model based on our training data and evaluate our testing data using evaluation metrics learned in the course.\n\nWe will use some of the algorithms taught in the course, specifically:\n\n1. Linear Regression\n2. KNN\n3. Decision Trees\n4. Logistic Regression\n5. SVM\n\nWe will evaluate our models using:\n\n1.  Accuracy Score\n2.  Jaccard Index\n3.  F1-Score\n4.  LogLoss\n5.  Mean Absolute Error\n6.  Mean Squared Error\n7.  R2-Score\n\nFinally, you will use your models to generate the report at the end. \n",
      "metadata": {}
    },
    {
      "cell_type": "markdown",
      "source": "# About The Dataset\n",
      "metadata": {}
    },
    {
      "cell_type": "markdown",
      "source": "The original source of the data is Australian Government's Bureau of Meteorology and the latest data can be gathered from [http://www.bom.gov.au/climate/dwo/](http://www.bom.gov.au/climate/dwo/?utm_medium=Exinfluencer&utm_source=Exinfluencer&utm_content=000026UJ&utm_term=10006555&utm_id=NA-SkillsNetwork-Channel-SkillsNetworkCoursesIBMDeveloperSkillsNetworkML0101ENSkillsNetwork20718538-2022-01-01).\n\nThe dataset to be used has extra columns like 'RainToday' and our target is 'RainTomorrow', which was gathered from the Rattle at [https://bitbucket.org/kayontoga/rattle/src/master/data/weatherAUS.RData](https://bitbucket.org/kayontoga/rattle/src/master/data/weatherAUS.RData?utm_medium=Exinfluencer&utm_source=Exinfluencer&utm_content=000026UJ&utm_term=10006555&utm_id=NA-SkillsNetwork-Channel-SkillsNetworkCoursesIBMDeveloperSkillsNetworkML0101ENSkillsNetwork20718538-2022-01-01)\n\n\n",
      "metadata": {}
    },
    {
      "cell_type": "markdown",
      "source": "This dataset contains observations of weather metrics for each day from 2008 to 2017. The **weatherAUS.csv** dataset includes the following fields:\n\n| Field         | Description                                           | Unit            | Type   |\n| ------------- | ----------------------------------------------------- | --------------- | ------ |\n| Date          | Date of the Observation in YYYY-MM-DD                 | Date            | object |\n| Location      | Location of the Observation                           | Location        | object |\n| MinTemp       | Minimum temperature                                   | Celsius         | float  |\n| MaxTemp       | Maximum temperature                                   | Celsius         | float  |\n| Rainfall      | Amount of rainfall                                    | Millimeters     | float  |\n| Evaporation   | Amount of evaporation                                 | Millimeters     | float  |\n| Sunshine      | Amount of bright sunshine                             | hours           | float  |\n| WindGustDir   | Direction of the strongest gust                       | Compass Points  | object |\n| WindGustSpeed | Speed of the strongest gust                           | Kilometers/Hour | object |\n| WindDir9am    | Wind direction averaged of 10 minutes prior to 9am    | Compass Points  | object |\n| WindDir3pm    | Wind direction averaged of 10 minutes prior to 3pm    | Compass Points  | object |\n| WindSpeed9am  | Wind speed averaged of 10 minutes prior to 9am        | Kilometers/Hour | float  |\n| WindSpeed3pm  | Wind speed averaged of 10 minutes prior to 3pm        | Kilometers/Hour | float  |\n| Humidity9am   | Humidity at 9am                                       | Percent         | float  |\n| Humidity3pm   | Humidity at 3pm                                       | Percent         | float  |\n| Pressure9am   | Atmospheric pressure reduced to mean sea level at 9am | Hectopascal     | float  |\n| Pressure3pm   | Atmospheric pressure reduced to mean sea level at 3pm | Hectopascal     | float  |\n| Cloud9am      | Fraction of the sky obscured by cloud at 9am          | Eights          | float  |\n| Cloud3pm      | Fraction of the sky obscured by cloud at 3pm          | Eights          | float  |\n| Temp9am       | Temperature at 9am                                    | Celsius         | float  |\n| Temp3pm       | Temperature at 3pm                                    | Celsius         | float  |\n| RainToday     | If there was rain today                               | Yes/No          | object |\n| RainTomorrow  | If there is rain tomorrow                             | Yes/No          | float  |\n\nColumn definitions were gathered from [http://www.bom.gov.au/climate/dwo/IDCJDW0000.shtml](http://www.bom.gov.au/climate/dwo/IDCJDW0000.shtml?utm_medium=Exinfluencer&utm_source=Exinfluencer&utm_content=000026UJ&utm_term=10006555&utm_id=NA-SkillsNetwork-Channel-SkillsNetworkCoursesIBMDeveloperSkillsNetworkML0101ENSkillsNetwork20718538-2022-01-01)\n\n",
      "metadata": {}
    },
    {
      "cell_type": "markdown",
      "source": "## **Import the required libraries**\n",
      "metadata": {}
    },
    {
      "cell_type": "code",
      "source": "# All Libraries required for this lab are listed below. The libraries pre-installed on Skills Network Labs are commented.\n# !mamba install -qy pandas==1.3.4 numpy==1.21.4 seaborn==0.9.0 matplotlib==3.5.0 scikit-learn==0.20.1\n# Note: If your environment doesn't support \"!mamba install\", use \"!pip install\"",
      "metadata": {
        "trusted": true
      },
      "outputs": [],
      "execution_count": 100
    },
    {
      "cell_type": "code",
      "source": "# Surpress warnings:\ndef warn(*args, **kwargs):\n    pass\nimport warnings\nwarnings.warn = warn",
      "metadata": {
        "trusted": true
      },
      "outputs": [],
      "execution_count": 101
    },
    {
      "cell_type": "code",
      "source": "import pandas as pd\nimport numpy as np\nimport scipy as sp\nimport pylab as pl\nimport matplotlib.pyplot as plt\nimport sklearn.metrics as metrics\nimport math\nimport sklearn.tree as tree\nimport itertools\nfrom sklearn import svm\nfrom sklearn import preprocessing\nfrom sklearn import linear_model\nfrom sklearn.linear_model import LogisticRegression\nfrom sklearn.linear_model import LinearRegression\nfrom sklearn.neighbors import KNeighborsClassifier\nfrom sklearn.neighbors import KNeighborsClassifier\nfrom sklearn.tree import DecisionTreeClassifier\nfrom sklearn.model_selection import train_test_split\nfrom sklearn.metrics import jaccard_score\nfrom sklearn.metrics import f1_score\nfrom sklearn.metrics import log_loss\nfrom sklearn.metrics import confusion_matrix, accuracy_score\nfrom sklearn.metrics import r2_score\nfrom sklearn.metrics import classification_report, confusion_matrix\n%matplotlib inline",
      "metadata": {
        "trusted": true
      },
      "outputs": [],
      "execution_count": 102
    },
    {
      "cell_type": "markdown",
      "source": "### Importing the Dataset\n",
      "metadata": {}
    },
    {
      "cell_type": "code",
      "source": "from pyodide.http import pyfetch\n\nasync def download(url, filename):\n    response = await pyfetch(url)\n    if response.status == 200:\n        with open(filename, \"wb\") as f:\n            f.write(await response.bytes())",
      "metadata": {
        "trusted": true
      },
      "outputs": [],
      "execution_count": 103
    },
    {
      "cell_type": "code",
      "source": "path='https://cf-courses-data.s3.us.cloud-object-storage.appdomain.cloud/IBMDeveloperSkillsNetwork-ML0101EN-SkillUp/labs/ML-FinalAssignment/Weather_Data.csv'",
      "metadata": {
        "trusted": true
      },
      "outputs": [],
      "execution_count": 104
    },
    {
      "cell_type": "code",
      "source": "await download(path, \"Weather_Data.csv\")\nfilename =\"Weather_Data.csv\"",
      "metadata": {
        "trusted": true
      },
      "outputs": [],
      "execution_count": 105
    },
    {
      "cell_type": "code",
      "source": "df = pd.read_csv(\"Weather_Data.csv\")",
      "metadata": {
        "trusted": true
      },
      "outputs": [],
      "execution_count": 106
    },
    {
      "cell_type": "markdown",
      "source": "> Note: This version of the lab is designed for JupyterLite, which necessitates downloading the dataset to the interface. However, when working with the downloaded version of this notebook on your local machines (Jupyter Anaconda), you can simply **skip the steps above of \"Importing the Dataset\"** and use the URL directly in the `pandas.read_csv()` function. You can uncomment and run the statements in the cell below.\n",
      "metadata": {}
    },
    {
      "cell_type": "code",
      "source": "#filepath = \"https://cf-courses-data.s3.us.cloud-object-storage.appdomain.cloud/IBMDeveloperSkillsNetwork-ML0101EN-SkillUp/labs/ML-FinalAssignment/Weather_Data.csv\"\n#df = pd.read_csv(filepath)",
      "metadata": {
        "trusted": true
      },
      "outputs": [],
      "execution_count": 107
    },
    {
      "cell_type": "code",
      "source": "df.columns",
      "metadata": {
        "trusted": true
      },
      "outputs": [
        {
          "execution_count": 108,
          "output_type": "execute_result",
          "data": {
            "text/plain": "Index(['Date', 'MinTemp', 'MaxTemp', 'Rainfall', 'Evaporation', 'Sunshine',\n       'WindGustDir', 'WindGustSpeed', 'WindDir9am', 'WindDir3pm',\n       'WindSpeed9am', 'WindSpeed3pm', 'Humidity9am', 'Humidity3pm',\n       'Pressure9am', 'Pressure3pm', 'Cloud9am', 'Cloud3pm', 'Temp9am',\n       'Temp3pm', 'RainToday', 'RainTomorrow'],\n      dtype='object')"
          },
          "metadata": {}
        }
      ],
      "execution_count": 108
    },
    {
      "cell_type": "code",
      "source": "df.describe()",
      "metadata": {
        "trusted": true
      },
      "outputs": [
        {
          "execution_count": 109,
          "output_type": "execute_result",
          "data": {
            "text/plain": "           MinTemp      MaxTemp     Rainfall  Evaporation     Sunshine  \\\ncount  3271.000000  3271.000000  3271.000000  3271.000000  3271.000000   \nmean     14.877102    23.005564     3.342158     5.175787     7.168970   \nstd       4.554710     4.483752     9.917746     2.757684     3.815966   \nmin       4.300000    11.700000     0.000000     0.000000     0.000000   \n25%      11.000000    19.600000     0.000000     3.200000     4.250000   \n50%      14.900000    22.800000     0.000000     4.800000     8.300000   \n75%      18.800000    26.000000     1.400000     7.000000    10.200000   \nmax      27.600000    45.800000   119.400000    18.400000    13.600000   \n\n       WindGustSpeed  WindSpeed9am  WindSpeed3pm  Humidity9am  Humidity3pm  \\\ncount    3271.000000   3271.000000   3271.000000  3271.000000  3271.000000   \nmean       41.476307     15.077041     19.294405    68.243962    54.698563   \nstd        10.806951      7.043825      7.453331    15.086127    16.279241   \nmin        17.000000      0.000000      0.000000    19.000000    10.000000   \n25%        35.000000     11.000000     15.000000    58.000000    44.000000   \n50%        41.000000     15.000000     19.000000    69.000000    56.000000   \n75%        44.000000     20.000000     24.000000    80.000000    64.000000   \nmax        96.000000     54.000000     57.000000   100.000000    99.000000   \n\n       Pressure9am  Pressure3pm     Cloud9am     Cloud3pm      Temp9am  \\\ncount  3271.000000  3271.000000  3271.000000  3271.000000  3271.000000   \nmean   1018.334424  1016.003085     4.318557     4.176093    17.821461   \nstd       7.020090     7.019915     2.526923     2.411274     4.894316   \nmin     986.700000   989.800000     0.000000     0.000000     6.400000   \n25%    1013.700000  1011.300000     2.000000     2.000000    13.800000   \n50%    1018.600000  1016.300000     5.000000     4.000000    18.200000   \n75%    1023.100000  1020.800000     7.000000     7.000000    21.700000   \nmax    1039.000000  1036.700000     9.000000     8.000000    36.500000   \n\n           Temp3pm  \ncount  3271.000000  \nmean     21.543656  \nstd       4.297053  \nmin      10.200000  \n25%      18.400000  \n50%      21.300000  \n75%      24.500000  \nmax      44.700000  ",
            "text/html": "<div>\n<style scoped>\n    .dataframe tbody tr th:only-of-type {\n        vertical-align: middle;\n    }\n\n    .dataframe tbody tr th {\n        vertical-align: top;\n    }\n\n    .dataframe thead th {\n        text-align: right;\n    }\n</style>\n<table border=\"1\" class=\"dataframe\">\n  <thead>\n    <tr style=\"text-align: right;\">\n      <th></th>\n      <th>MinTemp</th>\n      <th>MaxTemp</th>\n      <th>Rainfall</th>\n      <th>Evaporation</th>\n      <th>Sunshine</th>\n      <th>WindGustSpeed</th>\n      <th>WindSpeed9am</th>\n      <th>WindSpeed3pm</th>\n      <th>Humidity9am</th>\n      <th>Humidity3pm</th>\n      <th>Pressure9am</th>\n      <th>Pressure3pm</th>\n      <th>Cloud9am</th>\n      <th>Cloud3pm</th>\n      <th>Temp9am</th>\n      <th>Temp3pm</th>\n    </tr>\n  </thead>\n  <tbody>\n    <tr>\n      <th>count</th>\n      <td>3271.000000</td>\n      <td>3271.000000</td>\n      <td>3271.000000</td>\n      <td>3271.000000</td>\n      <td>3271.000000</td>\n      <td>3271.000000</td>\n      <td>3271.000000</td>\n      <td>3271.000000</td>\n      <td>3271.000000</td>\n      <td>3271.000000</td>\n      <td>3271.000000</td>\n      <td>3271.000000</td>\n      <td>3271.000000</td>\n      <td>3271.000000</td>\n      <td>3271.000000</td>\n      <td>3271.000000</td>\n    </tr>\n    <tr>\n      <th>mean</th>\n      <td>14.877102</td>\n      <td>23.005564</td>\n      <td>3.342158</td>\n      <td>5.175787</td>\n      <td>7.168970</td>\n      <td>41.476307</td>\n      <td>15.077041</td>\n      <td>19.294405</td>\n      <td>68.243962</td>\n      <td>54.698563</td>\n      <td>1018.334424</td>\n      <td>1016.003085</td>\n      <td>4.318557</td>\n      <td>4.176093</td>\n      <td>17.821461</td>\n      <td>21.543656</td>\n    </tr>\n    <tr>\n      <th>std</th>\n      <td>4.554710</td>\n      <td>4.483752</td>\n      <td>9.917746</td>\n      <td>2.757684</td>\n      <td>3.815966</td>\n      <td>10.806951</td>\n      <td>7.043825</td>\n      <td>7.453331</td>\n      <td>15.086127</td>\n      <td>16.279241</td>\n      <td>7.020090</td>\n      <td>7.019915</td>\n      <td>2.526923</td>\n      <td>2.411274</td>\n      <td>4.894316</td>\n      <td>4.297053</td>\n    </tr>\n    <tr>\n      <th>min</th>\n      <td>4.300000</td>\n      <td>11.700000</td>\n      <td>0.000000</td>\n      <td>0.000000</td>\n      <td>0.000000</td>\n      <td>17.000000</td>\n      <td>0.000000</td>\n      <td>0.000000</td>\n      <td>19.000000</td>\n      <td>10.000000</td>\n      <td>986.700000</td>\n      <td>989.800000</td>\n      <td>0.000000</td>\n      <td>0.000000</td>\n      <td>6.400000</td>\n      <td>10.200000</td>\n    </tr>\n    <tr>\n      <th>25%</th>\n      <td>11.000000</td>\n      <td>19.600000</td>\n      <td>0.000000</td>\n      <td>3.200000</td>\n      <td>4.250000</td>\n      <td>35.000000</td>\n      <td>11.000000</td>\n      <td>15.000000</td>\n      <td>58.000000</td>\n      <td>44.000000</td>\n      <td>1013.700000</td>\n      <td>1011.300000</td>\n      <td>2.000000</td>\n      <td>2.000000</td>\n      <td>13.800000</td>\n      <td>18.400000</td>\n    </tr>\n    <tr>\n      <th>50%</th>\n      <td>14.900000</td>\n      <td>22.800000</td>\n      <td>0.000000</td>\n      <td>4.800000</td>\n      <td>8.300000</td>\n      <td>41.000000</td>\n      <td>15.000000</td>\n      <td>19.000000</td>\n      <td>69.000000</td>\n      <td>56.000000</td>\n      <td>1018.600000</td>\n      <td>1016.300000</td>\n      <td>5.000000</td>\n      <td>4.000000</td>\n      <td>18.200000</td>\n      <td>21.300000</td>\n    </tr>\n    <tr>\n      <th>75%</th>\n      <td>18.800000</td>\n      <td>26.000000</td>\n      <td>1.400000</td>\n      <td>7.000000</td>\n      <td>10.200000</td>\n      <td>44.000000</td>\n      <td>20.000000</td>\n      <td>24.000000</td>\n      <td>80.000000</td>\n      <td>64.000000</td>\n      <td>1023.100000</td>\n      <td>1020.800000</td>\n      <td>7.000000</td>\n      <td>7.000000</td>\n      <td>21.700000</td>\n      <td>24.500000</td>\n    </tr>\n    <tr>\n      <th>max</th>\n      <td>27.600000</td>\n      <td>45.800000</td>\n      <td>119.400000</td>\n      <td>18.400000</td>\n      <td>13.600000</td>\n      <td>96.000000</td>\n      <td>54.000000</td>\n      <td>57.000000</td>\n      <td>100.000000</td>\n      <td>99.000000</td>\n      <td>1039.000000</td>\n      <td>1036.700000</td>\n      <td>9.000000</td>\n      <td>8.000000</td>\n      <td>36.500000</td>\n      <td>44.700000</td>\n    </tr>\n  </tbody>\n</table>\n</div>"
          },
          "metadata": {}
        }
      ],
      "execution_count": 109
    },
    {
      "cell_type": "code",
      "source": "df.head()",
      "metadata": {
        "trusted": true
      },
      "outputs": [
        {
          "execution_count": 110,
          "output_type": "execute_result",
          "data": {
            "text/plain": "       Date  MinTemp  MaxTemp  Rainfall  Evaporation  Sunshine WindGustDir  \\\n0  2/1/2008     19.5     22.4      15.6          6.2       0.0           W   \n1  2/2/2008     19.5     25.6       6.0          3.4       2.7           W   \n2  2/3/2008     21.6     24.5       6.6          2.4       0.1           W   \n3  2/4/2008     20.2     22.8      18.8          2.2       0.0           W   \n4  2/5/2008     19.7     25.7      77.4          4.8       0.0           W   \n\n   WindGustSpeed WindDir9am WindDir3pm  ...  Humidity9am  Humidity3pm  \\\n0             41          S        SSW  ...           92           84   \n1             41          W          E  ...           83           73   \n2             41        ESE        ESE  ...           88           86   \n3             41        NNE          E  ...           83           90   \n4             41        NNE          W  ...           88           74   \n\n   Pressure9am  Pressure3pm  Cloud9am  Cloud3pm  Temp9am  Temp3pm  RainToday  \\\n0       1017.6       1017.4         8         8     20.7     20.9        Yes   \n1       1017.9       1016.4         7         7     22.4     24.8        Yes   \n2       1016.7       1015.6         7         8     23.5     23.0        Yes   \n3       1014.2       1011.8         8         8     21.4     20.9        Yes   \n4       1008.3       1004.8         8         8     22.5     25.5        Yes   \n\n   RainTomorrow  \n0           Yes  \n1           Yes  \n2           Yes  \n3           Yes  \n4           Yes  \n\n[5 rows x 22 columns]",
            "text/html": "<div>\n<style scoped>\n    .dataframe tbody tr th:only-of-type {\n        vertical-align: middle;\n    }\n\n    .dataframe tbody tr th {\n        vertical-align: top;\n    }\n\n    .dataframe thead th {\n        text-align: right;\n    }\n</style>\n<table border=\"1\" class=\"dataframe\">\n  <thead>\n    <tr style=\"text-align: right;\">\n      <th></th>\n      <th>Date</th>\n      <th>MinTemp</th>\n      <th>MaxTemp</th>\n      <th>Rainfall</th>\n      <th>Evaporation</th>\n      <th>Sunshine</th>\n      <th>WindGustDir</th>\n      <th>WindGustSpeed</th>\n      <th>WindDir9am</th>\n      <th>WindDir3pm</th>\n      <th>...</th>\n      <th>Humidity9am</th>\n      <th>Humidity3pm</th>\n      <th>Pressure9am</th>\n      <th>Pressure3pm</th>\n      <th>Cloud9am</th>\n      <th>Cloud3pm</th>\n      <th>Temp9am</th>\n      <th>Temp3pm</th>\n      <th>RainToday</th>\n      <th>RainTomorrow</th>\n    </tr>\n  </thead>\n  <tbody>\n    <tr>\n      <th>0</th>\n      <td>2/1/2008</td>\n      <td>19.5</td>\n      <td>22.4</td>\n      <td>15.6</td>\n      <td>6.2</td>\n      <td>0.0</td>\n      <td>W</td>\n      <td>41</td>\n      <td>S</td>\n      <td>SSW</td>\n      <td>...</td>\n      <td>92</td>\n      <td>84</td>\n      <td>1017.6</td>\n      <td>1017.4</td>\n      <td>8</td>\n      <td>8</td>\n      <td>20.7</td>\n      <td>20.9</td>\n      <td>Yes</td>\n      <td>Yes</td>\n    </tr>\n    <tr>\n      <th>1</th>\n      <td>2/2/2008</td>\n      <td>19.5</td>\n      <td>25.6</td>\n      <td>6.0</td>\n      <td>3.4</td>\n      <td>2.7</td>\n      <td>W</td>\n      <td>41</td>\n      <td>W</td>\n      <td>E</td>\n      <td>...</td>\n      <td>83</td>\n      <td>73</td>\n      <td>1017.9</td>\n      <td>1016.4</td>\n      <td>7</td>\n      <td>7</td>\n      <td>22.4</td>\n      <td>24.8</td>\n      <td>Yes</td>\n      <td>Yes</td>\n    </tr>\n    <tr>\n      <th>2</th>\n      <td>2/3/2008</td>\n      <td>21.6</td>\n      <td>24.5</td>\n      <td>6.6</td>\n      <td>2.4</td>\n      <td>0.1</td>\n      <td>W</td>\n      <td>41</td>\n      <td>ESE</td>\n      <td>ESE</td>\n      <td>...</td>\n      <td>88</td>\n      <td>86</td>\n      <td>1016.7</td>\n      <td>1015.6</td>\n      <td>7</td>\n      <td>8</td>\n      <td>23.5</td>\n      <td>23.0</td>\n      <td>Yes</td>\n      <td>Yes</td>\n    </tr>\n    <tr>\n      <th>3</th>\n      <td>2/4/2008</td>\n      <td>20.2</td>\n      <td>22.8</td>\n      <td>18.8</td>\n      <td>2.2</td>\n      <td>0.0</td>\n      <td>W</td>\n      <td>41</td>\n      <td>NNE</td>\n      <td>E</td>\n      <td>...</td>\n      <td>83</td>\n      <td>90</td>\n      <td>1014.2</td>\n      <td>1011.8</td>\n      <td>8</td>\n      <td>8</td>\n      <td>21.4</td>\n      <td>20.9</td>\n      <td>Yes</td>\n      <td>Yes</td>\n    </tr>\n    <tr>\n      <th>4</th>\n      <td>2/5/2008</td>\n      <td>19.7</td>\n      <td>25.7</td>\n      <td>77.4</td>\n      <td>4.8</td>\n      <td>0.0</td>\n      <td>W</td>\n      <td>41</td>\n      <td>NNE</td>\n      <td>W</td>\n      <td>...</td>\n      <td>88</td>\n      <td>74</td>\n      <td>1008.3</td>\n      <td>1004.8</td>\n      <td>8</td>\n      <td>8</td>\n      <td>22.5</td>\n      <td>25.5</td>\n      <td>Yes</td>\n      <td>Yes</td>\n    </tr>\n  </tbody>\n</table>\n<p>5 rows × 22 columns</p>\n</div>"
          },
          "metadata": {}
        }
      ],
      "execution_count": 110
    },
    {
      "cell_type": "markdown",
      "source": "### Data Preprocessing\n",
      "metadata": {}
    },
    {
      "cell_type": "markdown",
      "source": "#### One Hot Encoding\n",
      "metadata": {}
    },
    {
      "cell_type": "markdown",
      "source": "First, we need to perform one hot encoding to convert categorical variables to binary variables.\n",
      "metadata": {}
    },
    {
      "cell_type": "code",
      "source": "df_sydney_processed = pd.get_dummies(data=df, columns=['RainToday', 'WindGustDir', 'WindDir9am', 'WindDir3pm'])",
      "metadata": {
        "trusted": true
      },
      "outputs": [],
      "execution_count": 111
    },
    {
      "cell_type": "markdown",
      "source": "Next, we replace the values of the 'RainTomorrow' column changing them from a categorical column to a binary column. We do not use the `get_dummies` method because we would end up with two columns for 'RainTomorrow' and we do not want, since 'RainTomorrow' is our target.\n",
      "metadata": {}
    },
    {
      "cell_type": "code",
      "source": "df_sydney_processed.replace(['No', 'Yes'], [0,1], inplace=True)",
      "metadata": {
        "trusted": true
      },
      "outputs": [],
      "execution_count": 112
    },
    {
      "cell_type": "markdown",
      "source": "### Training Data and Test Data\n",
      "metadata": {}
    },
    {
      "cell_type": "markdown",
      "source": "Now, we set our 'features' or x values and our Y or target variable.\n",
      "metadata": {}
    },
    {
      "cell_type": "code",
      "source": "df_sydney_processed.drop('Date',axis=1,inplace=True)",
      "metadata": {
        "trusted": true
      },
      "outputs": [],
      "execution_count": 113
    },
    {
      "cell_type": "code",
      "source": "df_sydney_processed = df_sydney_processed.astype(float)",
      "metadata": {
        "trusted": true
      },
      "outputs": [],
      "execution_count": 114
    },
    {
      "cell_type": "markdown",
      "source": "# Regression",
      "metadata": {}
    },
    {
      "cell_type": "markdown",
      "source": "## Multi-Linear Regression\n",
      "metadata": {}
    },
    {
      "cell_type": "markdown",
      "source": "### Data Split",
      "metadata": {}
    },
    {
      "cell_type": "markdown",
      "source": "#### Q1) Use the `train_test_split` function to split the `features` and `Y` dataframes with a `test_size` of `0.2` and the `random_state` set to `10`.\n",
      "metadata": {}
    },
    {
      "cell_type": "code",
      "source": "#Enter Your Code and Execute\ndf_sydney_processed = df_sydney_processed.astype(float)\nfeatures1 = df_sydney_processed.drop(columns='Rainfall', axis=1)\nX1 = features1\ny1 = df_sydney_processed['Rainfall']\nprint(\"Target Variable: {}\".format(y1.name))",
      "metadata": {
        "trusted": true
      },
      "outputs": [
        {
          "name": "stdout",
          "text": "Target Variable: Rainfall\n",
          "output_type": "stream"
        }
      ],
      "execution_count": 115
    },
    {
      "cell_type": "code",
      "source": "X1_train, X1_test, y1_train, y1_test = train_test_split(X1, y1, random_state = 10, train_size = 0.8)",
      "metadata": {
        "trusted": true
      },
      "outputs": [],
      "execution_count": 116
    },
    {
      "cell_type": "markdown",
      "source": "### Model Development",
      "metadata": {}
    },
    {
      "cell_type": "markdown",
      "source": "#### Q2) Create and train a Linear Regression model called LinearReg using the training data (`x_train`, `y_train`).\n",
      "metadata": {}
    },
    {
      "cell_type": "code",
      "source": "#Enter Your Code and Execute\n\nLinearReg = linear_model.LinearRegression()\nLinearReg.fit(X1_train, y1_train)\nprint(LinearReg)\nprint ('Coefficients: ', LinearReg.coef_)\nprint ('Intercept: ', LinearReg.intercept_)",
      "metadata": {
        "trusted": true
      },
      "outputs": [
        {
          "name": "stdout",
          "text": "LinearRegression()\nCoefficients:  [-7.78887546e-01 -5.78804298e-02  2.68143556e-01 -1.77578858e-01\n  1.25509303e-01  1.77698985e-01  1.18869347e-03  1.24680319e-01\n  1.01585163e-01 -7.57245517e-02 -6.31780794e-02  4.04117999e-02\n -1.56377493e-01  1.95064212e-01  4.76831105e-01  3.91429782e-01\n  1.65645146e+12  1.65645146e+12 -1.11062126e+11 -1.11062126e+11\n -1.11062126e+11 -1.11062126e+11 -1.11062126e+11 -1.11062126e+11\n -1.11062126e+11 -1.11062126e+11 -1.11062126e+11 -1.11062126e+11\n -1.11062126e+11 -1.11062126e+11 -1.11062126e+11 -1.11062126e+11\n -1.11062126e+11 -1.11062126e+11  3.63920612e+11  3.63920612e+11\n  3.63920612e+11  3.63920612e+11  3.63920612e+11  3.63920612e+11\n  3.63920612e+11  3.63920612e+11  3.63920612e+11  3.63920612e+11\n  3.63920612e+11  3.63920612e+11  3.63920612e+11  3.63920612e+11\n  3.63920612e+11  3.63920612e+11  5.32831993e+11  5.32831993e+11\n  5.32831993e+11  5.32831993e+11  5.32831993e+11  5.32831993e+11\n  5.32831993e+11  5.32831993e+11  5.32831993e+11  5.32831993e+11\n  5.32831993e+11  5.32831993e+11  5.32831993e+11  5.32831993e+11\n  5.32831993e+11  5.32831993e+11]\nIntercept:  -2442141942763.801\n",
          "output_type": "stream"
        }
      ],
      "execution_count": 117
    },
    {
      "cell_type": "markdown",
      "source": "### Predictions",
      "metadata": {}
    },
    {
      "cell_type": "markdown",
      "source": "#### Q3) Now use the `predict` method on the testing data (`x_test`) and save it to the array `predictions`.\n",
      "metadata": {}
    },
    {
      "cell_type": "code",
      "source": "#Enter Your Code and Execute\n\npredictions_linreg=LinearReg.predict(X1_test)\nprint(predictions_linreg[0:20])",
      "metadata": {
        "trusted": true
      },
      "outputs": [
        {
          "name": "stdout",
          "text": "[-2.4296875   8.36865234 21.76513672 13.04589844  9.12109375 -1.06738281\n  2.55273438 15.30859375 16.16259766 -1.5        -0.92578125  3.88134766\n 10.86376953  2.22949219  0.40917969  0.79052734 -1.23242188  8.99414062\n -1.49804688 -0.56640625]\n",
          "output_type": "stream"
        }
      ],
      "execution_count": 118
    },
    {
      "cell_type": "markdown",
      "source": "### Model Evaluation",
      "metadata": {}
    },
    {
      "cell_type": "markdown",
      "source": "#### Q4) Using the `predictions` and the `y_test` dataframe calculate the value for each metric using the appropriate function.\n",
      "metadata": {}
    },
    {
      "cell_type": "code",
      "source": "#Enter Your Code and Execute\n\nLinearRegression_MAE=np.mean(np.absolute(predictions_linreg - y1_test))\nLinearRegression_MSE=np.mean((predictions_linreg - y1_test) ** 2)\nLinearRegression_RMSE=math.sqrt(np.mean((predictions_linreg - y1_test) ** 2))\nLinearRegression_VAR=LinearReg.score(X1, y1)\nLinearRegression_R2=r2_score(y1_test, predictions_linreg)",
      "metadata": {
        "trusted": true
      },
      "outputs": [],
      "execution_count": 119
    },
    {
      "cell_type": "markdown",
      "source": "#### Q5) Show the MAE, MSE, and R2 in a tabular format using data frame for the linear model.\n",
      "metadata": {}
    },
    {
      "cell_type": "code",
      "source": "#Enter Your Code and Execute\n\nLinearRegression_Report = {\"MAE\":LinearRegression_MAE,\"MSE\":LinearRegression_MSE,\"RMSE\":LinearRegression_RMSE,\"VAR\":LinearRegression_VAR,\"R2\":LinearRegression_R2}\nLinearRegression_Report_df=pd.DataFrame(LinearRegression_Report.items(),columns=['Evaluation Method', 'Score'])\nLinearRegression_Report_df",
      "metadata": {
        "trusted": true
      },
      "outputs": [
        {
          "execution_count": 120,
          "output_type": "execute_result",
          "data": {
            "text/plain": "  Evaluation Method      Score\n0               MAE   4.241434\n1               MSE  53.641816\n2              RMSE   7.324057\n3               VAR   0.384645\n4                R2   0.409306",
            "text/html": "<div>\n<style scoped>\n    .dataframe tbody tr th:only-of-type {\n        vertical-align: middle;\n    }\n\n    .dataframe tbody tr th {\n        vertical-align: top;\n    }\n\n    .dataframe thead th {\n        text-align: right;\n    }\n</style>\n<table border=\"1\" class=\"dataframe\">\n  <thead>\n    <tr style=\"text-align: right;\">\n      <th></th>\n      <th>Evaluation Method</th>\n      <th>Score</th>\n    </tr>\n  </thead>\n  <tbody>\n    <tr>\n      <th>0</th>\n      <td>MAE</td>\n      <td>4.241434</td>\n    </tr>\n    <tr>\n      <th>1</th>\n      <td>MSE</td>\n      <td>53.641816</td>\n    </tr>\n    <tr>\n      <th>2</th>\n      <td>RMSE</td>\n      <td>7.324057</td>\n    </tr>\n    <tr>\n      <th>3</th>\n      <td>VAR</td>\n      <td>0.384645</td>\n    </tr>\n    <tr>\n      <th>4</th>\n      <td>R2</td>\n      <td>0.409306</td>\n    </tr>\n  </tbody>\n</table>\n</div>"
          },
          "metadata": {}
        }
      ],
      "execution_count": 120
    },
    {
      "cell_type": "markdown",
      "source": "# Classification",
      "metadata": {}
    },
    {
      "cell_type": "markdown",
      "source": "### Data Split",
      "metadata": {}
    },
    {
      "cell_type": "code",
      "source": "features2 = df_sydney_processed.drop(columns='RainTomorrow', axis=1)\nX2 = features2\ny2 = df_sydney_processed['RainTomorrow']\nprint(\"Target Variable: {}\".format(y2.name))",
      "metadata": {
        "trusted": true
      },
      "outputs": [
        {
          "name": "stdout",
          "text": "Target Variable: RainTomorrow\n",
          "output_type": "stream"
        }
      ],
      "execution_count": 121
    },
    {
      "cell_type": "code",
      "source": "X2_train, X2_test, y2_train, y2_test = train_test_split(X2, y2, random_state=1, train_size = 0.8)",
      "metadata": {
        "trusted": true
      },
      "outputs": [],
      "execution_count": 122
    },
    {
      "cell_type": "markdown",
      "source": "## KNN\n",
      "metadata": {}
    },
    {
      "cell_type": "markdown",
      "source": "### Model Accuracy Graph",
      "metadata": {}
    },
    {
      "cell_type": "code",
      "source": "Ks=10\nmean_acc = np.zeros((Ks-1))\nstd_acc = np.zeros((Ks-1))\nfor n in range(1,Ks):\n    \n    neigh = KNeighborsClassifier(n_neighbors = n).fit(X2_train,y2_train)\n    yhat=neigh.predict(X2_test)\n    mean_acc[n-1] = metrics.accuracy_score(y2_test, yhat)\n\n    \n    std_acc[n-1]=np.std(yhat==y2_test)/np.sqrt(yhat.shape[0])\n    \nplt.plot(range(1,Ks),mean_acc,'g')\nplt.fill_between(range(1,Ks),mean_acc - 1 * std_acc,mean_acc + 1 * std_acc, alpha=0.10)\nplt.fill_between(range(1,Ks),mean_acc - 3 * std_acc,mean_acc + 3 * std_acc, alpha=0.10,color=\"green\")\nplt.legend(('Accuracy ', '+/- 1xstd','+/- 3xstd'))\nplt.ylabel('Accuracy ')\nplt.xlabel('Number of Neighbors (K)')\nplt.tight_layout()\nplt.show()",
      "metadata": {
        "trusted": true
      },
      "outputs": [
        {
          "output_type": "display_data",
          "data": {
            "text/plain": "<Figure size 640x480 with 1 Axes>",
            "image/png": "[encoded data removed]"
          },
          "metadata": {}
        }
      ],
      "execution_count": 123
    },
    {
      "cell_type": "markdown",
      "source": "### Model Development",
      "metadata": {}
    },
    {
      "cell_type": "markdown",
      "source": "#### Q6) Create and train a KNN model called KNN using the training data (`x_train`, `y_train`) with the `n_neighbors` parameter set to `4`.\n",
      "metadata": {}
    },
    {
      "cell_type": "code",
      "source": "#Enter Your Code and Execute\n\nknn = KNeighborsClassifier(n_neighbors = 4).fit(X2_train,y2_train)\nprint(knn)",
      "metadata": {
        "trusted": true
      },
      "outputs": [
        {
          "name": "stdout",
          "text": "KNeighborsClassifier(n_neighbors=4)\n",
          "output_type": "stream"
        }
      ],
      "execution_count": 124
    },
    {
      "cell_type": "markdown",
      "source": "### Predictions",
      "metadata": {}
    },
    {
      "cell_type": "markdown",
      "source": "#### Q7) Now use the `predict` method on the testing data (`x_test`) and save it to the array `predictions`.\n",
      "metadata": {}
    },
    {
      "cell_type": "code",
      "source": "#Enter Your Code and Execute\n\npredictions_knn = knn.predict(X2_test)\npredictions_knn[0:20]",
      "metadata": {
        "trusted": true
      },
      "outputs": [
        {
          "execution_count": 125,
          "output_type": "execute_result",
          "data": {
            "text/plain": "array([0., 0., 1., 0., 0., 1., 0., 0., 0., 0., 1., 0., 0., 0., 0., 0., 0.,\n       0., 0., 0.])"
          },
          "metadata": {}
        }
      ],
      "execution_count": 125
    },
    {
      "cell_type": "markdown",
      "source": "### Model Evaluation",
      "metadata": {}
    },
    {
      "cell_type": "markdown",
      "source": "#### Q8) Using the `predictions` and the `y_test` dataframe calculate the value for each metric using the appropriate function.\n",
      "metadata": {}
    },
    {
      "cell_type": "code",
      "source": "#Enter Your Code and Execute\n\nKNN_Accuracy_Score = metrics.accuracy_score(y2_test, predictions_knn)\nKNN_JaccardIndex = jaccard_score(y2_test, predictions_knn)\nKNN_F1_Score = f1_score(y2_test, predictions_knn)\nKNN_LogLoss = log_loss(y2_test, predictions_knn)\n\nKNN_Report = {\"Accuracy Score\":KNN_Accuracy_Score,\"Jaccard Index\":KNN_JaccardIndex,\"F1 Score\":KNN_F1_Score,\"Log-Loss\":KNN_LogLoss}\nKNN_Report_df=pd.DataFrame(KNN_Report.items(),columns=['Evaluation Method', 'Score'])\nKNN_Report_df",
      "metadata": {
        "trusted": true
      },
      "outputs": [
        {
          "execution_count": 126,
          "output_type": "execute_result",
          "data": {
            "text/plain": "  Evaluation Method     Score\n0    Accuracy Score  0.813740\n1     Jaccard Index  0.399015\n2          F1 Score  0.570423\n3          Log-Loss  6.713474",
            "text/html": "<div>\n<style scoped>\n    .dataframe tbody tr th:only-of-type {\n        vertical-align: middle;\n    }\n\n    .dataframe tbody tr th {\n        vertical-align: top;\n    }\n\n    .dataframe thead th {\n        text-align: right;\n    }\n</style>\n<table border=\"1\" class=\"dataframe\">\n  <thead>\n    <tr style=\"text-align: right;\">\n      <th></th>\n      <th>Evaluation Method</th>\n      <th>Score</th>\n    </tr>\n  </thead>\n  <tbody>\n    <tr>\n      <th>0</th>\n      <td>Accuracy Score</td>\n      <td>0.813740</td>\n    </tr>\n    <tr>\n      <th>1</th>\n      <td>Jaccard Index</td>\n      <td>0.399015</td>\n    </tr>\n    <tr>\n      <th>2</th>\n      <td>F1 Score</td>\n      <td>0.570423</td>\n    </tr>\n    <tr>\n      <th>3</th>\n      <td>Log-Loss</td>\n      <td>6.713474</td>\n    </tr>\n  </tbody>\n</table>\n</div>"
          },
          "metadata": {}
        }
      ],
      "execution_count": 126
    },
    {
      "cell_type": "markdown",
      "source": "## Decision Tree\n",
      "metadata": {}
    },
    {
      "cell_type": "markdown",
      "source": "### Model Development",
      "metadata": {}
    },
    {
      "cell_type": "markdown",
      "source": "#### Q9) Create and train a Decision Tree model called Tree using the training data (`x_train`, `y_train`).\n",
      "metadata": {}
    },
    {
      "cell_type": "code",
      "source": "#Enter Your Code and Execute\n \nDecTree = DecisionTreeClassifier(criterion=\"entropy\", max_depth = 4)\nDecTree.fit(X2_train,y2_train)\nprint(DecTree)",
      "metadata": {
        "trusted": true
      },
      "outputs": [
        {
          "name": "stdout",
          "text": "DecisionTreeClassifier(criterion='entropy', max_depth=4)\n",
          "output_type": "stream"
        }
      ],
      "execution_count": 127
    },
    {
      "cell_type": "markdown",
      "source": "### Predictions",
      "metadata": {}
    },
    {
      "cell_type": "markdown",
      "source": "#### Q10) Now use the `predict` method on the testing data (`x_test`) and save it to the array `predictions`.\n",
      "metadata": {}
    },
    {
      "cell_type": "code",
      "source": "#Enter Your Code and Execute\n\npredictions_tree = DecTree.predict(X2_test)\npredictions_tree[0:20]",
      "metadata": {
        "trusted": true
      },
      "outputs": [
        {
          "execution_count": 128,
          "output_type": "execute_result",
          "data": {
            "text/plain": "array([0., 0., 0., 0., 0., 1., 1., 0., 0., 0., 1., 0., 0., 0., 0., 1., 0.,\n       0., 0., 0.])"
          },
          "metadata": {}
        }
      ],
      "execution_count": 128
    },
    {
      "cell_type": "markdown",
      "source": "### Model Evaluation",
      "metadata": {}
    },
    {
      "cell_type": "markdown",
      "source": "#### Q11) Using the `predictions` and the `y_test` dataframe calculate the value for each metric using the appropriate function.\n",
      "metadata": {}
    },
    {
      "cell_type": "code",
      "source": "#Enter Your Code and Execute\n\nTree_Accuracy_Score = metrics.accuracy_score(y2_test, predictions_tree)\nTree_JaccardIndex = jaccard_score(y2_test, predictions_tree)\nTree_F1_Score = f1_score(y2_test, predictions_tree)\nTree_LogLoss = log_loss(y2_test, predictions_tree)\n\nTree_Report = {\"Accuracy Score\":Tree_Accuracy_Score,\"Jaccard Index\":Tree_JaccardIndex,\"F1 Score\":Tree_F1_Score,\"Log-Loss\":Tree_LogLoss}\nTree_Report_df=pd.DataFrame(Tree_Report.items(),columns=['Evaluation Method', 'Score'])\nTree_Report_df",
      "metadata": {
        "trusted": true
      },
      "outputs": [
        {
          "execution_count": 129,
          "output_type": "execute_result",
          "data": {
            "text/plain": "  Evaluation Method     Score\n0    Accuracy Score  0.804580\n1     Jaccard Index  0.378641\n2          F1 Score  0.549296\n3          Log-Loss  7.043645",
            "text/html": "<div>\n<style scoped>\n    .dataframe tbody tr th:only-of-type {\n        vertical-align: middle;\n    }\n\n    .dataframe tbody tr th {\n        vertical-align: top;\n    }\n\n    .dataframe thead th {\n        text-align: right;\n    }\n</style>\n<table border=\"1\" class=\"dataframe\">\n  <thead>\n    <tr style=\"text-align: right;\">\n      <th></th>\n      <th>Evaluation Method</th>\n      <th>Score</th>\n    </tr>\n  </thead>\n  <tbody>\n    <tr>\n      <th>0</th>\n      <td>Accuracy Score</td>\n      <td>0.804580</td>\n    </tr>\n    <tr>\n      <th>1</th>\n      <td>Jaccard Index</td>\n      <td>0.378641</td>\n    </tr>\n    <tr>\n      <th>2</th>\n      <td>F1 Score</td>\n      <td>0.549296</td>\n    </tr>\n    <tr>\n      <th>3</th>\n      <td>Log-Loss</td>\n      <td>7.043645</td>\n    </tr>\n  </tbody>\n</table>\n</div>"
          },
          "metadata": {}
        }
      ],
      "execution_count": 129
    },
    {
      "cell_type": "markdown",
      "source": "### Visualization",
      "metadata": {}
    },
    {
      "cell_type": "code",
      "source": "tree.plot_tree(DecTree)\nplt.show()",
      "metadata": {
        "trusted": true
      },
      "outputs": [
        {
          "output_type": "display_data",
          "data": {
            "text/plain": "<Figure size 640x480 with 1 Axes>",
            "image/png": "[encoded data removed]"
          },
          "metadata": {}
        }
      ],
      "execution_count": 130
    },
    {
      "cell_type": "markdown",
      "source": "## Logistic Regression\n",
      "metadata": {}
    },
    {
      "cell_type": "markdown",
      "source": "### Data Split",
      "metadata": {}
    },
    {
      "cell_type": "markdown",
      "source": "#### Q12) Use the `train_test_split` function to split the `features` and `Y` dataframes with a `test_size` of `0.2` and the `random_state` set to `1`.\n",
      "metadata": {}
    },
    {
      "cell_type": "code",
      "source": "#Enter Your Code and Execute\n\nX2_train, X2_test, y2_train, y2_test = train_test_split(X2, y2, random_state=1, train_size = 0.8)",
      "metadata": {
        "trusted": true
      },
      "outputs": [],
      "execution_count": 131
    },
    {
      "cell_type": "markdown",
      "source": "### Model Development",
      "metadata": {}
    },
    {
      "cell_type": "markdown",
      "source": "#### Q13) Create and train a LogisticRegression model called LR using the training data (`x_train`, `y_train`) with the `solver` parameter set to `liblinear`.\n",
      "metadata": {}
    },
    {
      "cell_type": "code",
      "source": "#Enter Your Code and Execute\n\nLogisticReg = LogisticRegression(C=0.01, solver='liblinear').fit(X2_train,y2_train)\nprint(LogisticReg)",
      "metadata": {
        "trusted": true
      },
      "outputs": [
        {
          "name": "stdout",
          "text": "LogisticRegression(C=0.01, solver='liblinear')\n",
          "output_type": "stream"
        }
      ],
      "execution_count": 132
    },
    {
      "cell_type": "markdown",
      "source": "#### Q14) Now, use the `predict` and `predict_proba` methods on the testing data (`x_test`) and save it as 2 arrays `predictions` and `predict_proba`.\n",
      "metadata": {}
    },
    {
      "cell_type": "code",
      "source": "#Enter Your Code and Execute\n\npredictions_logreg = LogisticReg.predict(X2_test)\nprint(predictions_logreg[0:20]) ",
      "metadata": {
        "trusted": true
      },
      "outputs": [
        {
          "name": "stdout",
          "text": "[0. 0. 1. 0. 0. 1. 0. 0. 0. 0. 1. 0. 0. 0. 0. 0. 1. 0. 0. 0.]\n",
          "output_type": "stream"
        }
      ],
      "execution_count": 133
    },
    {
      "cell_type": "code",
      "source": "predictions_proba_logreg = LogisticReg.predict_proba(X2_test)\nprint(predictions_proba_logreg[0:20]) ",
      "metadata": {
        "trusted": true
      },
      "outputs": [
        {
          "name": "stdout",
          "text": "[[0.71865881 0.28134119]\n [0.97588309 0.02411691]\n [0.49701316 0.50298684]\n [0.66413151 0.33586849]\n [0.97404729 0.02595271]\n [0.04546312 0.95453688]\n [0.6610169  0.3389831 ]\n [0.95698608 0.04301392]\n [0.84800137 0.15199863]\n [0.95260718 0.04739282]\n [0.26965698 0.73034302]\n [0.63483411 0.36516589]\n [0.61667905 0.38332095]\n [0.96202352 0.03797648]\n [0.97685581 0.02314419]\n [0.96705296 0.03294704]\n [0.44035503 0.55964497]\n [0.8828542  0.1171458 ]\n [0.89949508 0.10050492]\n [0.96568006 0.03431994]]\n",
          "output_type": "stream"
        }
      ],
      "execution_count": 134
    },
    {
      "cell_type": "markdown",
      "source": "### Model Evaluation",
      "metadata": {}
    },
    {
      "cell_type": "markdown",
      "source": "#### Q15) Using the `predictions`, `predict_proba` and the `y_test` dataframe calculate the value for each metric using the appropriate function.\n",
      "metadata": {}
    },
    {
      "cell_type": "code",
      "source": "#Enter Your Code and Execute\n\nLogR_Accuracy_Score = metrics.accuracy_score(y2_test, predictions_logreg)\nLogR_JaccardIndex = jaccard_score(y2_test, predictions_logreg)\nLogR_F1_Score = f1_score(y2_test, predictions_logreg)\nLogR_LogLoss = log_loss(y2_test, predictions_logreg)\n\nLogR_Report = {\"Accuracy Score\":LogR_Accuracy_Score,\"Jaccard Index\":LogR_JaccardIndex,\"F1 Score\":LogR_F1_Score,\"Log-Loss\":LogR_LogLoss}\nLogR_Report_df=pd.DataFrame(LogR_Report.items(),columns=['Evaluation Method', 'Score'])\nLogR_Report_df",
      "metadata": {
        "trusted": true
      },
      "outputs": [
        {
          "execution_count": 135,
          "output_type": "execute_result",
          "data": {
            "text/plain": "  Evaluation Method     Score\n0    Accuracy Score  0.827481\n1     Jaccard Index  0.484018\n2          F1 Score  0.652308\n3          Log-Loss  6.218218",
            "text/html": "<div>\n<style scoped>\n    .dataframe tbody tr th:only-of-type {\n        vertical-align: middle;\n    }\n\n    .dataframe tbody tr th {\n        vertical-align: top;\n    }\n\n    .dataframe thead th {\n        text-align: right;\n    }\n</style>\n<table border=\"1\" class=\"dataframe\">\n  <thead>\n    <tr style=\"text-align: right;\">\n      <th></th>\n      <th>Evaluation Method</th>\n      <th>Score</th>\n    </tr>\n  </thead>\n  <tbody>\n    <tr>\n      <th>0</th>\n      <td>Accuracy Score</td>\n      <td>0.827481</td>\n    </tr>\n    <tr>\n      <th>1</th>\n      <td>Jaccard Index</td>\n      <td>0.484018</td>\n    </tr>\n    <tr>\n      <th>2</th>\n      <td>F1 Score</td>\n      <td>0.652308</td>\n    </tr>\n    <tr>\n      <th>3</th>\n      <td>Log-Loss</td>\n      <td>6.218218</td>\n    </tr>\n  </tbody>\n</table>\n</div>"
          },
          "metadata": {}
        }
      ],
      "execution_count": 135
    },
    {
      "cell_type": "markdown",
      "source": "## SVM",
      "metadata": {}
    },
    {
      "cell_type": "markdown",
      "source": "### Model Development",
      "metadata": {}
    },
    {
      "cell_type": "markdown",
      "source": "#### Q16) Create and train a SVM model called SVM using the training data (`x_train`, `y_train`).\n",
      "metadata": {}
    },
    {
      "cell_type": "code",
      "source": "#Enter Your Code and Execute\n\nSVM = svm.SVC(kernel='rbf')\nSVM.fit(X2_train, y2_train)\nprint(SVM) ",
      "metadata": {
        "trusted": true
      },
      "outputs": [
        {
          "name": "stdout",
          "text": "SVC()\n",
          "output_type": "stream"
        }
      ],
      "execution_count": 136
    },
    {
      "cell_type": "markdown",
      "source": "### Predictions",
      "metadata": {}
    },
    {
      "cell_type": "markdown",
      "source": "#### Q17) Now use the `predict` method on the testing data (`x_test`) and save it to the array `predictions`.\n",
      "metadata": {}
    },
    {
      "cell_type": "code",
      "source": "#Enter Your Code and Execute\n\npredictions_svm = SVM.predict(X2_test)\nprint(predictions_svm[0:20]) ",
      "metadata": {
        "trusted": true
      },
      "outputs": [
        {
          "name": "stdout",
          "text": "[0. 0. 0. 0. 0. 0. 0. 0. 0. 0. 0. 0. 0. 0. 0. 0. 0. 0. 0. 0.]\n",
          "output_type": "stream"
        }
      ],
      "execution_count": 137
    },
    {
      "cell_type": "markdown",
      "source": "### Model Evaluation",
      "metadata": {}
    },
    {
      "cell_type": "markdown",
      "source": "#### Q18) Using the `predictions` and the `y_test` dataframe calculate the value for each metric using the appropriate function.\n",
      "metadata": {}
    },
    {
      "cell_type": "code",
      "source": "SVM_Accuracy_Score = metrics.accuracy_score(y2_test, predictions_svm)\nSVM_JaccardIndex = jaccard_score(y2_test, predictions_svm)\nSVM_F1_Score = f1_score(y2_test, predictions_svm)\nSVM_LogLoss = log_loss(y2_test, predictions_svm)\n\nSVM_Report = {\"Accuracy Score\":SVM_Accuracy_Score,\"Jaccard Index\":SVM_JaccardIndex,\"F1 Score\":SVM_F1_Score,\"Log-Loss\":SVM_LogLoss}\nSVM_Report_df=pd.DataFrame(SVM_Report.items(),columns=['Evaluation Method', 'Score'])\nSVM_Report_df",
      "metadata": {
        "trusted": true
      },
      "outputs": [
        {
          "execution_count": 138,
          "output_type": "execute_result",
          "data": {
            "text/plain": "  Evaluation Method      Score\n0    Accuracy Score   0.722137\n1     Jaccard Index   0.000000\n2          F1 Score   0.000000\n3          Log-Loss  10.015183",
            "text/html": "<div>\n<style scoped>\n    .dataframe tbody tr th:only-of-type {\n        vertical-align: middle;\n    }\n\n    .dataframe tbody tr th {\n        vertical-align: top;\n    }\n\n    .dataframe thead th {\n        text-align: right;\n    }\n</style>\n<table border=\"1\" class=\"dataframe\">\n  <thead>\n    <tr style=\"text-align: right;\">\n      <th></th>\n      <th>Evaluation Method</th>\n      <th>Score</th>\n    </tr>\n  </thead>\n  <tbody>\n    <tr>\n      <th>0</th>\n      <td>Accuracy Score</td>\n      <td>0.722137</td>\n    </tr>\n    <tr>\n      <th>1</th>\n      <td>Jaccard Index</td>\n      <td>0.000000</td>\n    </tr>\n    <tr>\n      <th>2</th>\n      <td>F1 Score</td>\n      <td>0.000000</td>\n    </tr>\n    <tr>\n      <th>3</th>\n      <td>Log-Loss</td>\n      <td>10.015183</td>\n    </tr>\n  </tbody>\n</table>\n</div>"
          },
          "metadata": {}
        }
      ],
      "execution_count": 138
    },
    {
      "cell_type": "markdown",
      "source": "## Model Comparison",
      "metadata": {}
    },
    {
      "cell_type": "markdown",
      "source": "### Report\n",
      "metadata": {}
    },
    {
      "cell_type": "markdown",
      "source": "#### Q19) Show the Accuracy,Jaccard Index,F1-Score and LogLoss in a tabular format using data frame for all of the above models.\n\n\\*LogLoss is only for Logistic Regression Model\n",
      "metadata": {}
    },
    {
      "cell_type": "code",
      "source": "accuracy = [KNN_Accuracy_Score, Tree_Accuracy_Score, LogR_Accuracy_Score, SVM_Accuracy_Score]\naccuracy = [100*i for i in accuracy]\n\njaccard = [KNN_JaccardIndex, Tree_JaccardIndex, LogR_JaccardIndex, SVM_JaccardIndex]\njaccard = [100*i for i in jaccard]\n\nf1 = [KNN_F1_Score, Tree_F1_Score, LogR_F1_Score, SVM_F1_Score]\nf1 = [100*i for i in f1]\n\nlogloss = [KNN_LogLoss, Tree_LogLoss, LogR_LogLoss, SVM_LogLoss]\n\nmethod = ['K-Nearest Neighbour','Decision Tree','Logistic Regression','Support Vector Machine']\nmodels = {'Classification Method':method, 'Accuracy Score (%)':accuracy, 'Jaccard Index (%)':jaccard, 'F1 Score (%)':f1, 'Log Loss Score':logloss}\n\nReport_df = pd.DataFrame(models)\nReport_df",
      "metadata": {
        "trusted": true
      },
      "outputs": [
        {
          "execution_count": 139,
          "output_type": "execute_result",
          "data": {
            "text/plain": "    Classification Method  Accuracy Score (%)  Jaccard Index (%)  \\\n0     K-Nearest Neighbour           81.374046          39.901478   \n1           Decision Tree           80.458015          37.864078   \n2     Logistic Regression           82.748092          48.401826   \n3  Support Vector Machine           72.213740           0.000000   \n\n   F1 Score (%)  Log Loss Score  \n0     57.042254        6.713474  \n1     54.929577        7.043645  \n2     65.230769        6.218218  \n3      0.000000       10.015183  ",
            "text/html": "<div>\n<style scoped>\n    .dataframe tbody tr th:only-of-type {\n        vertical-align: middle;\n    }\n\n    .dataframe tbody tr th {\n        vertical-align: top;\n    }\n\n    .dataframe thead th {\n        text-align: right;\n    }\n</style>\n<table border=\"1\" class=\"dataframe\">\n  <thead>\n    <tr style=\"text-align: right;\">\n      <th></th>\n      <th>Classification Method</th>\n      <th>Accuracy Score (%)</th>\n      <th>Jaccard Index (%)</th>\n      <th>F1 Score (%)</th>\n      <th>Log Loss Score</th>\n    </tr>\n  </thead>\n  <tbody>\n    <tr>\n      <th>0</th>\n      <td>K-Nearest Neighbour</td>\n      <td>81.374046</td>\n      <td>39.901478</td>\n      <td>57.042254</td>\n      <td>6.713474</td>\n    </tr>\n    <tr>\n      <th>1</th>\n      <td>Decision Tree</td>\n      <td>80.458015</td>\n      <td>37.864078</td>\n      <td>54.929577</td>\n      <td>7.043645</td>\n    </tr>\n    <tr>\n      <th>2</th>\n      <td>Logistic Regression</td>\n      <td>82.748092</td>\n      <td>48.401826</td>\n      <td>65.230769</td>\n      <td>6.218218</td>\n    </tr>\n    <tr>\n      <th>3</th>\n      <td>Support Vector Machine</td>\n      <td>72.213740</td>\n      <td>0.000000</td>\n      <td>0.000000</td>\n      <td>10.015183</td>\n    </tr>\n  </tbody>\n</table>\n</div>"
          },
          "metadata": {}
        }
      ],
      "execution_count": 139
    },
    {
      "cell_type": "markdown",
      "source": "<h2 id=\"Section_5\">  How to submit </h2>\n\n<p>Once you complete your notebook you will have to share it. You can download the notebook by navigating to \"File\" and clicking on \"Download\" button.\n\n<p>This will save the (.ipynb) file on your computer. Once saved, you can upload this file in the \"My Submission\" tab, of the \"Peer-graded Assignment\" section.  \n",
      "metadata": {}
    },
    {
      "cell_type": "markdown",
      "source": "<h2>About the Authors:</h2> \n\n<a href=\"https://www.linkedin.com/in/joseph-s-50398b136/?utm_medium=Exinfluencer&utm_source=Exinfluencer&utm_content=000026UJ&utm_term=10006555&utm_id=NA-SkillsNetwork-Channel-SkillsNetworkCoursesIBMDeveloperSkillsNetworkML0101ENSkillsNetwork20718538-2022-01-01\">Joseph Santarcangelo</a> has a PhD in Electrical Engineering, his research focused on using machine learning, signal processing, and computer vision to determine how videos impact human cognition. Joseph has been working for IBM since he completed his PhD.\n\n### Other Contributors\n\n[Svitlana Kramar](https://www.linkedin.com/in/svitlana-kramar/?utm_medium=Exinfluencer&utm_source=Exinfluencer&utm_content=000026UJ&utm_term=10006555&utm_id=NA-SkillsNetwork-Channel-SkillsNetworkCoursesIBMML0232ENSkillsNetwork30654641-2022-01-01)\n",
      "metadata": {}
    },
    {
      "cell_type": "markdown",
      "source": "## <h3 align=\"center\"> © IBM Corporation 2020. All rights reserved. <h3/>\n\n<!--\n## Change Log\n\n| Date (YYYY-MM-DD) | Version | Changed By    | Change Description          |\n| ----------------- | ------- | ------------- | --------------------------- |\n| 2022-06-22        | 2.0     | Svitlana K.   | Deleted GridSearch and Mock |\n--!>",
      "metadata": {}
    }
  ]
}